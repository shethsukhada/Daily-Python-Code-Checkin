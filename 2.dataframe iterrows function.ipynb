{
 "cells": [
  {
   "cell_type": "code",
   "execution_count": 3,
   "metadata": {},
   "outputs": [],
   "source": [
    "import pandas as pd\n",
    "from vega_datasets import data"
   ]
  },
  {
   "cell_type": "code",
   "execution_count": 5,
   "metadata": {},
   "outputs": [
    {
     "data": {
      "text/plain": [
       "['7zip',\n",
       " 'airports',\n",
       " 'anscombe',\n",
       " 'barley',\n",
       " 'birdstrikes',\n",
       " 'budget',\n",
       " 'budgets',\n",
       " 'burtin',\n",
       " 'cars',\n",
       " 'climate',\n",
       " 'co2-concentration',\n",
       " 'countries',\n",
       " 'crimea',\n",
       " 'disasters',\n",
       " 'driving',\n",
       " 'earthquakes',\n",
       " 'ffox',\n",
       " 'flare',\n",
       " 'flare-dependencies',\n",
       " 'flights-10k',\n",
       " 'flights-200k',\n",
       " 'flights-20k',\n",
       " 'flights-2k',\n",
       " 'flights-3m',\n",
       " 'flights-5k',\n",
       " 'flights-airport',\n",
       " 'gapminder',\n",
       " 'gapminder-health-income',\n",
       " 'gimp',\n",
       " 'github',\n",
       " 'graticule',\n",
       " 'income',\n",
       " 'iowa-electricity',\n",
       " 'iris',\n",
       " 'jobs',\n",
       " 'la-riots',\n",
       " 'londonBoroughs',\n",
       " 'londonCentroids',\n",
       " 'londonTubeLines',\n",
       " 'lookup_groups',\n",
       " 'lookup_people',\n",
       " 'miserables',\n",
       " 'monarchs',\n",
       " 'movies',\n",
       " 'normal-2d',\n",
       " 'obesity',\n",
       " 'points',\n",
       " 'population',\n",
       " 'population_engineers_hurricanes',\n",
       " 'seattle-temps',\n",
       " 'seattle-weather',\n",
       " 'sf-temps',\n",
       " 'sp500',\n",
       " 'stocks',\n",
       " 'udistrict',\n",
       " 'unemployment',\n",
       " 'unemployment-across-industries',\n",
       " 'us-10m',\n",
       " 'us-employment',\n",
       " 'us-state-capitals',\n",
       " 'weather',\n",
       " 'weball26',\n",
       " 'wheat',\n",
       " 'world-110m',\n",
       " 'zipcodes']"
      ]
     },
     "execution_count": 5,
     "metadata": {},
     "output_type": "execute_result"
    }
   ],
   "source": [
    "data.list_datasets()"
   ]
  },
  {
   "cell_type": "code",
   "execution_count": 52,
   "metadata": {},
   "outputs": [],
   "source": [
    "flights = data.flights_2k()\n",
    "import numpy as np\n",
    "flights.shape[0]\n",
    "\n",
    "flights['new col'] = np.arange(2000,0,-1)\n"
   ]
  },
  {
   "cell_type": "code",
   "execution_count": 51,
   "metadata": {},
   "outputs": [
    {
     "data": {
      "text/html": [
       "<div>\n",
       "<style scoped>\n",
       "    .dataframe tbody tr th:only-of-type {\n",
       "        vertical-align: middle;\n",
       "    }\n",
       "\n",
       "    .dataframe tbody tr th {\n",
       "        vertical-align: top;\n",
       "    }\n",
       "\n",
       "    .dataframe thead th {\n",
       "        text-align: right;\n",
       "    }\n",
       "</style>\n",
       "<table border=\"1\" class=\"dataframe\">\n",
       "  <thead>\n",
       "    <tr style=\"text-align: right;\">\n",
       "      <th></th>\n",
       "      <th>date</th>\n",
       "      <th>delay</th>\n",
       "      <th>destination</th>\n",
       "      <th>distance</th>\n",
       "      <th>origin</th>\n",
       "      <th>new col</th>\n",
       "    </tr>\n",
       "  </thead>\n",
       "  <tbody>\n",
       "    <tr>\n",
       "      <th>0</th>\n",
       "      <td>2001-01-14 21:55:00</td>\n",
       "      <td>0</td>\n",
       "      <td>SMF</td>\n",
       "      <td>480</td>\n",
       "      <td>SAN</td>\n",
       "      <td>[2000 1999 1998 ...    3    2    1]</td>\n",
       "    </tr>\n",
       "    <tr>\n",
       "      <th>1</th>\n",
       "      <td>2001-03-26 20:15:00</td>\n",
       "      <td>-11</td>\n",
       "      <td>SLC</td>\n",
       "      <td>507</td>\n",
       "      <td>PHX</td>\n",
       "      <td>[2000 1999 1998 ...    3    2    1]</td>\n",
       "    </tr>\n",
       "    <tr>\n",
       "      <th>2</th>\n",
       "      <td>2001-03-05 14:55:00</td>\n",
       "      <td>-3</td>\n",
       "      <td>LAX</td>\n",
       "      <td>714</td>\n",
       "      <td>ELP</td>\n",
       "      <td>[2000 1999 1998 ...    3    2    1]</td>\n",
       "    </tr>\n",
       "    <tr>\n",
       "      <th>3</th>\n",
       "      <td>2001-01-07 12:30:00</td>\n",
       "      <td>12</td>\n",
       "      <td>SNA</td>\n",
       "      <td>342</td>\n",
       "      <td>SJC</td>\n",
       "      <td>[2000 1999 1998 ...    3    2    1]</td>\n",
       "    </tr>\n",
       "    <tr>\n",
       "      <th>4</th>\n",
       "      <td>2001-01-18 12:00:00</td>\n",
       "      <td>2</td>\n",
       "      <td>LAX</td>\n",
       "      <td>373</td>\n",
       "      <td>SMF</td>\n",
       "      <td>[2000 1999 1998 ...    3    2    1]</td>\n",
       "    </tr>\n",
       "  </tbody>\n",
       "</table>\n",
       "</div>"
      ],
      "text/plain": [
       "                 date  delay destination  distance origin  \\\n",
       "0 2001-01-14 21:55:00      0         SMF       480    SAN   \n",
       "1 2001-03-26 20:15:00    -11         SLC       507    PHX   \n",
       "2 2001-03-05 14:55:00     -3         LAX       714    ELP   \n",
       "3 2001-01-07 12:30:00     12         SNA       342    SJC   \n",
       "4 2001-01-18 12:00:00      2         LAX       373    SMF   \n",
       "\n",
       "                               new col  \n",
       "0  [2000 1999 1998 ...    3    2    1]  \n",
       "1  [2000 1999 1998 ...    3    2    1]  \n",
       "2  [2000 1999 1998 ...    3    2    1]  \n",
       "3  [2000 1999 1998 ...    3    2    1]  \n",
       "4  [2000 1999 1998 ...    3    2    1]  "
      ]
     },
     "execution_count": 51,
     "metadata": {},
     "output_type": "execute_result"
    }
   ],
   "source": [
    "flights.head()\n"
   ]
  },
  {
   "cell_type": "code",
   "execution_count": 10,
   "metadata": {},
   "outputs": [
    {
     "name": "stdout",
     "output_type": "stream",
     "text": [
      "<class 'pandas.core.frame.DataFrame'>\n",
      "RangeIndex: 2000 entries, 0 to 1999\n",
      "Data columns (total 5 columns):\n",
      "date           2000 non-null datetime64[ns]\n",
      "delay          2000 non-null int64\n",
      "destination    2000 non-null object\n",
      "distance       2000 non-null int64\n",
      "origin         2000 non-null object\n",
      "dtypes: datetime64[ns](1), int64(2), object(2)\n",
      "memory usage: 78.2+ KB\n"
     ]
    }
   ],
   "source": [
    "flights.info()"
   ]
  },
  {
   "cell_type": "code",
   "execution_count": 12,
   "metadata": {},
   "outputs": [
    {
     "data": {
      "text/html": [
       "<div>\n",
       "<style scoped>\n",
       "    .dataframe tbody tr th:only-of-type {\n",
       "        vertical-align: middle;\n",
       "    }\n",
       "\n",
       "    .dataframe tbody tr th {\n",
       "        vertical-align: top;\n",
       "    }\n",
       "\n",
       "    .dataframe thead th {\n",
       "        text-align: right;\n",
       "    }\n",
       "</style>\n",
       "<table border=\"1\" class=\"dataframe\">\n",
       "  <thead>\n",
       "    <tr style=\"text-align: right;\">\n",
       "      <th></th>\n",
       "      <th>delay</th>\n",
       "      <th>distance</th>\n",
       "    </tr>\n",
       "  </thead>\n",
       "  <tbody>\n",
       "    <tr>\n",
       "      <th>count</th>\n",
       "      <td>2000.000000</td>\n",
       "      <td>2000.000000</td>\n",
       "    </tr>\n",
       "    <tr>\n",
       "      <th>mean</th>\n",
       "      <td>8.027500</td>\n",
       "      <td>496.843500</td>\n",
       "    </tr>\n",
       "    <tr>\n",
       "      <th>std</th>\n",
       "      <td>24.728657</td>\n",
       "      <td>352.533469</td>\n",
       "    </tr>\n",
       "    <tr>\n",
       "      <th>min</th>\n",
       "      <td>-33.000000</td>\n",
       "      <td>108.000000</td>\n",
       "    </tr>\n",
       "    <tr>\n",
       "      <th>25%</th>\n",
       "      <td>-5.000000</td>\n",
       "      <td>283.000000</td>\n",
       "    </tr>\n",
       "    <tr>\n",
       "      <th>50%</th>\n",
       "      <td>0.000000</td>\n",
       "      <td>366.000000</td>\n",
       "    </tr>\n",
       "    <tr>\n",
       "      <th>75%</th>\n",
       "      <td>12.000000</td>\n",
       "      <td>590.000000</td>\n",
       "    </tr>\n",
       "    <tr>\n",
       "      <th>max</th>\n",
       "      <td>250.000000</td>\n",
       "      <td>2277.000000</td>\n",
       "    </tr>\n",
       "  </tbody>\n",
       "</table>\n",
       "</div>"
      ],
      "text/plain": [
       "             delay     distance\n",
       "count  2000.000000  2000.000000\n",
       "mean      8.027500   496.843500\n",
       "std      24.728657   352.533469\n",
       "min     -33.000000   108.000000\n",
       "25%      -5.000000   283.000000\n",
       "50%       0.000000   366.000000\n",
       "75%      12.000000   590.000000\n",
       "max     250.000000  2277.000000"
      ]
     },
     "execution_count": 12,
     "metadata": {},
     "output_type": "execute_result"
    }
   ],
   "source": [
    "flights.describe()"
   ]
  },
  {
   "cell_type": "code",
   "execution_count": 13,
   "metadata": {},
   "outputs": [
    {
     "data": {
      "text/plain": [
       "(0, date           2001-01-14 21:55:00\n",
       " delay                            0\n",
       " destination                    SMF\n",
       " distance                       480\n",
       " origin                         SAN\n",
       " Name: 0, dtype: object)"
      ]
     },
     "execution_count": 13,
     "metadata": {},
     "output_type": "execute_result"
    }
   ],
   "source": [
    "next(flights.iterrows())"
   ]
  },
  {
   "cell_type": "code",
   "execution_count": 14,
   "metadata": {},
   "outputs": [
    {
     "data": {
      "text/plain": [
       "tuple"
      ]
     },
     "execution_count": 14,
     "metadata": {},
     "output_type": "execute_result"
    }
   ],
   "source": [
    "type(next(flights.iterrows()))"
   ]
  },
  {
   "cell_type": "code",
   "execution_count": 17,
   "metadata": {},
   "outputs": [
    {
     "data": {
      "text/plain": [
       "date           2001-01-14 21:55:00\n",
       "delay                            0\n",
       "destination                    SMF\n",
       "distance                       480\n",
       "origin                         SAN\n",
       "Name: 0, dtype: object"
      ]
     },
     "execution_count": 17,
     "metadata": {},
     "output_type": "execute_result"
    }
   ],
   "source": [
    "next(flights.iterrows())[1]"
   ]
  },
  {
   "cell_type": "code",
   "execution_count": 56,
   "metadata": {},
   "outputs": [
    {
     "data": {
      "text/html": [
       "<div>\n",
       "<style scoped>\n",
       "    .dataframe tbody tr th:only-of-type {\n",
       "        vertical-align: middle;\n",
       "    }\n",
       "\n",
       "    .dataframe tbody tr th {\n",
       "        vertical-align: top;\n",
       "    }\n",
       "\n",
       "    .dataframe thead th {\n",
       "        text-align: right;\n",
       "    }\n",
       "</style>\n",
       "<table border=\"1\" class=\"dataframe\">\n",
       "  <thead>\n",
       "    <tr style=\"text-align: right;\">\n",
       "      <th></th>\n",
       "      <th>date</th>\n",
       "      <th>delay</th>\n",
       "      <th>destination</th>\n",
       "      <th>distance</th>\n",
       "      <th>origin</th>\n",
       "      <th>new col</th>\n",
       "    </tr>\n",
       "  </thead>\n",
       "  <tbody>\n",
       "    <tr>\n",
       "      <th>1980</th>\n",
       "      <td>2001-02-15 06:30:00</td>\n",
       "      <td>-5</td>\n",
       "      <td>SAT</td>\n",
       "      <td>192</td>\n",
       "      <td>HOU</td>\n",
       "      <td>1970</td>\n",
       "    </tr>\n",
       "    <tr>\n",
       "      <th>1981</th>\n",
       "      <td>2001-02-13 20:08:00</td>\n",
       "      <td>78</td>\n",
       "      <td>LAX</td>\n",
       "      <td>1814</td>\n",
       "      <td>IND</td>\n",
       "      <td>1971</td>\n",
       "    </tr>\n",
       "    <tr>\n",
       "      <th>1982</th>\n",
       "      <td>2001-02-08 16:30:00</td>\n",
       "      <td>4</td>\n",
       "      <td>PDX</td>\n",
       "      <td>344</td>\n",
       "      <td>BOI</td>\n",
       "      <td>1972</td>\n",
       "    </tr>\n",
       "    <tr>\n",
       "      <th>1983</th>\n",
       "      <td>2001-03-25 18:03:00</td>\n",
       "      <td>66</td>\n",
       "      <td>SAN</td>\n",
       "      <td>446</td>\n",
       "      <td>OAK</td>\n",
       "      <td>1973</td>\n",
       "    </tr>\n",
       "    <tr>\n",
       "      <th>1984</th>\n",
       "      <td>2001-03-05 07:45:00</td>\n",
       "      <td>-1</td>\n",
       "      <td>LBB</td>\n",
       "      <td>293</td>\n",
       "      <td>DAL</td>\n",
       "      <td>1974</td>\n",
       "    </tr>\n",
       "    <tr>\n",
       "      <th>1985</th>\n",
       "      <td>2001-03-31 08:40:00</td>\n",
       "      <td>-12</td>\n",
       "      <td>MHT</td>\n",
       "      <td>377</td>\n",
       "      <td>BWI</td>\n",
       "      <td>1975</td>\n",
       "    </tr>\n",
       "    <tr>\n",
       "      <th>1986</th>\n",
       "      <td>2001-03-04 08:35:00</td>\n",
       "      <td>5</td>\n",
       "      <td>PHX</td>\n",
       "      <td>646</td>\n",
       "      <td>OAK</td>\n",
       "      <td>1976</td>\n",
       "    </tr>\n",
       "    <tr>\n",
       "      <th>1987</th>\n",
       "      <td>2001-01-26 18:15:00</td>\n",
       "      <td>29</td>\n",
       "      <td>BUR</td>\n",
       "      <td>358</td>\n",
       "      <td>SMF</td>\n",
       "      <td>1977</td>\n",
       "    </tr>\n",
       "    <tr>\n",
       "      <th>1988</th>\n",
       "      <td>2001-02-11 15:55:00</td>\n",
       "      <td>4</td>\n",
       "      <td>DAL</td>\n",
       "      <td>189</td>\n",
       "      <td>AUS</td>\n",
       "      <td>1978</td>\n",
       "    </tr>\n",
       "    <tr>\n",
       "      <th>1989</th>\n",
       "      <td>2001-01-29 16:05:00</td>\n",
       "      <td>7</td>\n",
       "      <td>MDW</td>\n",
       "      <td>765</td>\n",
       "      <td>ISP</td>\n",
       "      <td>1979</td>\n",
       "    </tr>\n",
       "    <tr>\n",
       "      <th>1990</th>\n",
       "      <td>2001-03-26 10:35:00</td>\n",
       "      <td>0</td>\n",
       "      <td>PHX</td>\n",
       "      <td>304</td>\n",
       "      <td>SAN</td>\n",
       "      <td>1980</td>\n",
       "    </tr>\n",
       "    <tr>\n",
       "      <th>1991</th>\n",
       "      <td>2001-01-18 17:22:00</td>\n",
       "      <td>17</td>\n",
       "      <td>SMF</td>\n",
       "      <td>480</td>\n",
       "      <td>SAN</td>\n",
       "      <td>1981</td>\n",
       "    </tr>\n",
       "    <tr>\n",
       "      <th>1992</th>\n",
       "      <td>2001-02-20 08:00:00</td>\n",
       "      <td>-3</td>\n",
       "      <td>ABQ</td>\n",
       "      <td>289</td>\n",
       "      <td>LBB</td>\n",
       "      <td>1982</td>\n",
       "    </tr>\n",
       "    <tr>\n",
       "      <th>1993</th>\n",
       "      <td>2001-03-19 19:40:00</td>\n",
       "      <td>0</td>\n",
       "      <td>MDW</td>\n",
       "      <td>937</td>\n",
       "      <td>HOU</td>\n",
       "      <td>1983</td>\n",
       "    </tr>\n",
       "    <tr>\n",
       "      <th>1994</th>\n",
       "      <td>2001-01-19 21:47:00</td>\n",
       "      <td>2</td>\n",
       "      <td>LAS</td>\n",
       "      <td>256</td>\n",
       "      <td>PHX</td>\n",
       "      <td>1984</td>\n",
       "    </tr>\n",
       "    <tr>\n",
       "      <th>1995</th>\n",
       "      <td>2001-02-14 15:45:00</td>\n",
       "      <td>-10</td>\n",
       "      <td>IAH</td>\n",
       "      <td>217</td>\n",
       "      <td>DAL</td>\n",
       "      <td>1985</td>\n",
       "    </tr>\n",
       "    <tr>\n",
       "      <th>1996</th>\n",
       "      <td>2001-03-02 20:30:00</td>\n",
       "      <td>3</td>\n",
       "      <td>HOU</td>\n",
       "      <td>239</td>\n",
       "      <td>DAL</td>\n",
       "      <td>1986</td>\n",
       "    </tr>\n",
       "    <tr>\n",
       "      <th>1997</th>\n",
       "      <td>2001-02-12 06:20:00</td>\n",
       "      <td>-6</td>\n",
       "      <td>BWI</td>\n",
       "      <td>283</td>\n",
       "      <td>BDL</td>\n",
       "      <td>1987</td>\n",
       "    </tr>\n",
       "    <tr>\n",
       "      <th>1998</th>\n",
       "      <td>2001-01-02 16:18:00</td>\n",
       "      <td>30</td>\n",
       "      <td>PHX</td>\n",
       "      <td>256</td>\n",
       "      <td>LAS</td>\n",
       "      <td>1988</td>\n",
       "    </tr>\n",
       "    <tr>\n",
       "      <th>1999</th>\n",
       "      <td>2001-02-05 06:20:00</td>\n",
       "      <td>-3</td>\n",
       "      <td>BWI</td>\n",
       "      <td>283</td>\n",
       "      <td>BDL</td>\n",
       "      <td>1999</td>\n",
       "    </tr>\n",
       "  </tbody>\n",
       "</table>\n",
       "</div>"
      ],
      "text/plain": [
       "                    date  delay destination  distance origin  new col\n",
       "1980 2001-02-15 06:30:00     -5         SAT       192    HOU     1970\n",
       "1981 2001-02-13 20:08:00     78         LAX      1814    IND     1971\n",
       "1982 2001-02-08 16:30:00      4         PDX       344    BOI     1972\n",
       "1983 2001-03-25 18:03:00     66         SAN       446    OAK     1973\n",
       "1984 2001-03-05 07:45:00     -1         LBB       293    DAL     1974\n",
       "1985 2001-03-31 08:40:00    -12         MHT       377    BWI     1975\n",
       "1986 2001-03-04 08:35:00      5         PHX       646    OAK     1976\n",
       "1987 2001-01-26 18:15:00     29         BUR       358    SMF     1977\n",
       "1988 2001-02-11 15:55:00      4         DAL       189    AUS     1978\n",
       "1989 2001-01-29 16:05:00      7         MDW       765    ISP     1979\n",
       "1990 2001-03-26 10:35:00      0         PHX       304    SAN     1980\n",
       "1991 2001-01-18 17:22:00     17         SMF       480    SAN     1981\n",
       "1992 2001-02-20 08:00:00     -3         ABQ       289    LBB     1982\n",
       "1993 2001-03-19 19:40:00      0         MDW       937    HOU     1983\n",
       "1994 2001-01-19 21:47:00      2         LAS       256    PHX     1984\n",
       "1995 2001-02-14 15:45:00    -10         IAH       217    DAL     1985\n",
       "1996 2001-03-02 20:30:00      3         HOU       239    DAL     1986\n",
       "1997 2001-02-12 06:20:00     -6         BWI       283    BDL     1987\n",
       "1998 2001-01-02 16:18:00     30         PHX       256    LAS     1988\n",
       "1999 2001-02-05 06:20:00     -3         BWI       283    BDL     1999"
      ]
     },
     "execution_count": 56,
     "metadata": {},
     "output_type": "execute_result"
    }
   ],
   "source": [
    "for index, row in flights.iterrows():\n",
    "    #print('row',index)\n",
    "    if(index+10 < flights.shape[0]):\n",
    "        nindex = index+10 \n",
    "    else:\n",
    "        nindex = nindex\n",
    "            \n",
    "    flights.at[nindex, \"new col\"] = index\n",
    "    #print(row)\n",
    "flights.tail(20)"
   ]
  },
  {
   "cell_type": "code",
   "execution_count": 26,
   "metadata": {},
   "outputs": [
    {
     "data": {
      "text/plain": [
       "['date', 'delay', 'destination', 'distance', 'origin']"
      ]
     },
     "execution_count": 26,
     "metadata": {},
     "output_type": "execute_result"
    }
   ],
   "source": [
    "col_list = list(flights.columns)\n",
    "col_list"
   ]
  },
  {
   "cell_type": "code",
   "execution_count": 35,
   "metadata": {},
   "outputs": [
    {
     "name": "stdout",
     "output_type": "stream",
     "text": [
      "\t\tdate\tdelay\tdestination\tdistance\torigin\n",
      "0 \t 2001-01-14 21:55:00 \t SAN \t SMF \t 480 \t 0\n",
      "1 \t 2001-03-26 20:15:00 \t PHX \t SLC \t 507 \t -11\n"
     ]
    }
   ],
   "source": [
    "for index, row in flights.head(2).iterrows():\n",
    "    if index == 0:\n",
    "        print('\\t' ,*col_list,sep='\\t')\n",
    "    print(index ,'\\t' , row['date'] ,'\\t' , row['origin'] , '\\t' ,row['destination'], '\\t' ,row['distance'] ,'\\t' , row['delay'])"
   ]
  },
  {
   "cell_type": "code",
   "execution_count": 36,
   "metadata": {},
   "outputs": [
    {
     "name": "stdout",
     "output_type": "stream",
     "text": [
      "Pandas(Index=0, date=Timestamp('2001-01-14 21:55:00'), delay=0, destination='SMF', distance=480, origin='SAN')\n",
      "Pandas(Index=1, date=Timestamp('2001-03-26 20:15:00'), delay=-11, destination='SLC', distance=507, origin='PHX')\n",
      "Pandas(Index=2, date=Timestamp('2001-03-05 14:55:00'), delay=-3, destination='LAX', distance=714, origin='ELP')\n",
      "Pandas(Index=3, date=Timestamp('2001-01-07 12:30:00'), delay=12, destination='SNA', distance=342, origin='SJC')\n",
      "Pandas(Index=4, date=Timestamp('2001-01-18 12:00:00'), delay=2, destination='LAX', distance=373, origin='SMF')\n"
     ]
    }
   ],
   "source": [
    "for row in flights.head().itertuples():\n",
    "    print(row)"
   ]
  },
  {
   "cell_type": "code",
   "execution_count": null,
   "metadata": {},
   "outputs": [],
   "source": []
  }
 ],
 "metadata": {
  "kernelspec": {
   "display_name": "Python 3",
   "language": "python",
   "name": "python3"
  },
  "language_info": {
   "codemirror_mode": {
    "name": "ipython",
    "version": 3
   },
   "file_extension": ".py",
   "mimetype": "text/x-python",
   "name": "python",
   "nbconvert_exporter": "python",
   "pygments_lexer": "ipython3",
   "version": "3.7.1"
  }
 },
 "nbformat": 4,
 "nbformat_minor": 2
}
